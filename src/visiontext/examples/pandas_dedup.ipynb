{
 "cells": [
  {
   "cell_type": "code",
   "id": "initial_id",
   "metadata": {
    "collapsed": true,
    "ExecuteTime": {
     "end_time": "2024-08-23T10:06:45.674241Z",
     "start_time": "2024-08-23T10:06:44.893540Z"
    }
   },
   "source": [
    "import pandas as pd\n",
    "\n",
    "from visiontext.pandatools import full_pandas_display\n",
    "\n",
    "# deduplication of data in pandas\n",
    "# pandas dedup example\n",
    "data1 = {\n",
    "    \"epoch\": [1, 1, 2, 2, 3, 3],\n",
    "    \"step\": [10, 10, 20, 20, 30, 30],\n",
    "    \"loss\": [0.1, 0.1, 0.3, 0.4, 0.5, 0.6],\n",
    "}\n",
    "data2 = {\n",
    "    \"epoch\": [1, 1, 2, 2, 3, 3],\n",
    "    \"step\": [10, 10, 20, 20, 30, 30],\n",
    "    \"loss\": [0.1, 0.1, 0.3, 0.3, 0.5, 0.5],\n",
    "}\n",
    "for i, data in enumerate([data1, data2]):\n",
    "    print(f\"=\" * 70, f\"Run {i}\")\n",
    "    df = pd.DataFrame(data)\n",
    "    df_nodup = df.drop_duplicates()\n",
    "    df_final_sorted = df_nodup.sort_values(by=[\"epoch\", \"step\"])\n",
    "    df_final_nona = df_final_sorted.dropna(axis=1, how=\"all\")\n",
    "\n",
    "    print(f\"Dataframe:\")\n",
    "    with full_pandas_display():\n",
    "        print(df_final_nona)\n",
    "        print()\n",
    "\n",
    "    grouped = df_final_nona.groupby([\"epoch\", \"step\"]).size()\n",
    "    duplicates = grouped[grouped > 1]\n",
    "    duplicated_index = duplicates.index\n",
    "\n",
    "    # change the index of the dataframe and use .loc to apply the index\n",
    "    df_final_indexed = df_final_nona.set_index([\"epoch\", \"step\"])\n",
    "    df_dups = df_final_indexed.loc[duplicated_index]\n",
    "    if len(df_dups) > 0:\n",
    "        print(f\"Mismatching duplicates:\")\n",
    "        with full_pandas_display():\n",
    "            print(df_dups)\n",
    "            print()\n",
    "        df_final_clean = df_final_indexed.reset_index().drop_duplicates(\n",
    "            subset=[\"epoch\", \"step\"], keep=\"first\"\n",
    "        )\n",
    "\n",
    "        print(f\"Clean\")\n",
    "        with full_pandas_display():\n",
    "            print(df_final_clean)\n",
    "            print()\n",
    "    else:\n",
    "        print(f\"No duplicates found\")\n",
    "        df_final_clean = df_final_nona"
   ],
   "outputs": [
    {
     "name": "stdout",
     "output_type": "stream",
     "text": [
      "====================================================================== Run 0\n",
      "Dataframe:\n",
      "   epoch  step  loss\n",
      "0      1    10   0.1\n",
      "2      2    20   0.3\n",
      "3      2    20   0.4\n",
      "4      3    30   0.5\n",
      "5      3    30   0.6\n",
      "\n",
      "Mismatching duplicates:\n",
      "            loss\n",
      "epoch step      \n",
      "2     20     0.3\n",
      "      20     0.4\n",
      "3     30     0.5\n",
      "      30     0.6\n",
      "\n",
      "Clean\n",
      "   epoch  step  loss\n",
      "0      1    10   0.1\n",
      "1      2    20   0.3\n",
      "3      3    30   0.5\n",
      "\n",
      "====================================================================== Run 1\n",
      "Dataframe:\n",
      "   epoch  step  loss\n",
      "0      1    10   0.1\n",
      "2      2    20   0.3\n",
      "4      3    30   0.5\n",
      "\n",
      "No duplicates found\n"
     ]
    }
   ],
   "execution_count": 1
  },
  {
   "metadata": {},
   "cell_type": "code",
   "outputs": [],
   "execution_count": null,
   "source": "",
   "id": "5f4e5387ecf45d0b"
  }
 ],
 "metadata": {
  "kernelspec": {
   "display_name": "Python 3",
   "language": "python",
   "name": "python3"
  },
  "language_info": {
   "codemirror_mode": {
    "name": "ipython",
    "version": 2
   },
   "file_extension": ".py",
   "mimetype": "text/x-python",
   "name": "python",
   "nbconvert_exporter": "python",
   "pygments_lexer": "ipython2",
   "version": "2.7.6"
  }
 },
 "nbformat": 4,
 "nbformat_minor": 5
}
