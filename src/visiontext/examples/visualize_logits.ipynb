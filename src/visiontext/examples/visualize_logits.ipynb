{
 "cells": [
  {
   "cell_type": "code",
   "execution_count": 3,
   "id": "c4d762f4fea9c12c",
   "metadata": {
    "ExecuteTime": {
     "end_time": "2024-01-16T10:50:27.009941800Z",
     "start_time": "2024-01-16T10:50:26.989940600Z"
    },
    "collapsed": false,
    "jupyter": {
     "outputs_hidden": false
    }
   },
   "outputs": [],
   "source": [
    "import torch\n",
    "\n",
    "logits = torch.tensor([1.0, 2.0, 4.0, 3.0, 5.0, 7.0, 8.0, 1.5, 2.5, 3.5])\n",
    "classnames = [\n",
    "    \"lion\",\n",
    "    \"elephant\",\n",
    "    \"zebra\",\n",
    "    \"giraffe\",\n",
    "    \"tiger\",\n",
    "    \"penguin\",\n",
    "    \"koala\",\n",
    "    \"snake\",\n",
    "    \"dog\",\n",
    "    \"cat\",\n",
    "]\n",
    "true_classid = 3"
   ]
  },
  {
   "cell_type": "code",
   "execution_count": 4,
   "id": "initial_id",
   "metadata": {
    "ExecuteTime": {
     "end_time": "2024-01-16T10:50:27.361887700Z",
     "start_time": "2024-01-16T10:50:27.268270500Z"
    }
   },
   "outputs": [
    {
     "data": {
      "text/html": [
       "<table style='font-size:100%;'><tr><td>1</td><td>68.4%</td><td>koala</td></tr><tr><td>2</td><td>25.1%</td><td>penguin</td></tr><tr><td>3</td><td> 3.4%</td><td>tiger</td></tr><tr><td>4</td><td> 1.3%</td><td>zebra</td></tr><tr><td>5</td><td> 0.8%</td><td>cat</td></tr><tr><th>6</th><th> 0.5%</th><th>giraffe</th></tr></table>"
      ],
      "text/plain": [
       "<IPython.core.display.HTML object>"
      ]
     },
     "metadata": {},
     "output_type": "display_data"
    }
   ],
   "source": [
    "from visiontext.visualize import show_classification_logits_as_html\n",
    "\n",
    "show_classification_logits_as_html(logits, classnames, temp=1.0, k=5, true_classid=true_classid)"
   ]
  },
  {
   "cell_type": "code",
   "execution_count": null,
   "id": "4a845108f515bb60",
   "metadata": {
    "collapsed": false,
    "jupyter": {
     "outputs_hidden": false
    }
   },
   "outputs": [],
   "source": []
  }
 ],
 "metadata": {
  "kernelspec": {
   "display_name": "Python 3 (ipykernel)",
   "language": "python",
   "name": "python3"
  },
  "language_info": {
   "codemirror_mode": {
    "name": "ipython",
    "version": 3
   },
   "file_extension": ".py",
   "mimetype": "text/x-python",
   "name": "python",
   "nbconvert_exporter": "python",
   "pygments_lexer": "ipython3",
   "version": "3.10.13"
  }
 },
 "nbformat": 4,
 "nbformat_minor": 5
}
